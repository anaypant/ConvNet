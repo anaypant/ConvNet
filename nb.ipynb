{
 "cells": [
  {
   "cell_type": "code",
   "execution_count": 4,
   "metadata": {},
   "outputs": [
    {
     "name": "stderr",
     "output_type": "stream",
     "text": [
      "c:\\Users\\anayp\\AppData\\Local\\Programs\\Python\\Python39\\lib\\site-packages\\tqdm\\auto.py:22: TqdmWarning: IProgress not found. Please update jupyter and ipywidgets. See https://ipywidgets.readthedocs.io/en/stable/user_install.html\n",
      "  from .autonotebook import tqdm as notebook_tqdm\n"
     ]
    }
   ],
   "source": [
    "import numpy as np\n",
    "import PIL\n",
    "from PIL import Image, ImageFilter\n",
    "import torch"
   ]
  },
  {
   "cell_type": "code",
   "execution_count": 5,
   "metadata": {},
   "outputs": [],
   "source": [
    "directory = \"indoor/Images/\"\n",
    "image = Image.open(directory + \"airport_inside/airport_inside_0001.jpg\").convert(\"L\")\n",
    "\n",
    "np_image = np.asarray(image)\n",
    "\n",
    "sobel_filter_vertical = np.array([\n",
    "    [1, 0, -1],\n",
    "    [2, 0, -2],\n",
    "    [1, 0, -1]\n",
    "])\n",
    "\n",
    "sobel_filter_horizontal = np.array([\n",
    "    [1, 2, 1],\n",
    "    [0, 0, 0],\n",
    "    [-1, -2, -1]\n",
    "])\n",
    "\n",
    "scharr_filter_vertical = np.array([\n",
    "    [],\n",
    "    [],\n",
    "    []\n",
    "])\n",
    "\n",
    "scharr_filter_horizontal = np.array([\n",
    "    [],\n",
    "    [],\n",
    "    []\n",
    "])\n"
   ]
  },
  {
   "cell_type": "code",
   "execution_count": 6,
   "metadata": {},
   "outputs": [],
   "source": [
    "def convolve(image, kernel, padding=0):\n",
    "    # Get input and kernel dimensions\n",
    "    h, w = image.shape\n",
    "    kh, kw = kernel.shape\n",
    "    \n",
    "    # Calculate the output shape\n",
    "    oh, ow = h - kh + 1, w - kw + 1\n",
    "    \n",
    "    # Apply padding if specified\n",
    "    if padding > 0:\n",
    "        image = np.pad(image, padding, mode='constant')\n",
    "        oh, ow = h + 2*padding - kh + 1, w + 2*padding - kw + 1\n",
    "    \n",
    "    # Create an empty output array\n",
    "    output = np.zeros((oh, ow))\n",
    "    \n",
    "    # Slide the kernel over the input image and compute the dot product at each position\n",
    "    for i in range(oh):\n",
    "        for j in range(ow):\n",
    "            output[i, j] = np.sum(image[i:i+kh, j:j+kw] * kernel)\n",
    "            \n",
    "    return output"
   ]
  },
  {
   "cell_type": "code",
   "execution_count": 9,
   "metadata": {},
   "outputs": [
    {
     "name": "stdout",
     "output_type": "stream",
     "text": [
      "[[  13.   29.   36. ... -133.  -95.  -67.]\n",
      " [  35.   35.   11. ... -151. -106.  -71.]\n",
      " [  11.   24.   21. ... -130. -118.  -79.]\n",
      " ...\n",
      " [  22.   18.  -17. ...  150.   33.   -6.]\n",
      " [   1.   -8.   -6. ...  148.   42.    3.]\n",
      " [ -12.  -43.  -27. ...  143.   37.    7.]]\n"
     ]
    }
   ],
   "source": [
    "#Testing convolutions\n",
    "\n",
    "test_np_image = []\n",
    "for i in range(6):\n",
    "    test_np_image.append([])\n",
    "    for j in range(6):\n",
    "        if j >= 3: test_np_image[i].append(10)\n",
    "        else: test_np_image[i].append(0)\n",
    "test_np_image = np.array(np_image)\n",
    "\n",
    "sobel_filter_vertical = np.array([\n",
    "    [1, 0, -1],\n",
    "    [1, 0, -1],\n",
    "    [1, 0, -1]\n",
    "])\n",
    "\n",
    "filtered_image = np.array(convolve(test_np_image, sobel_filter_vertical))\n",
    "print(filtered_image)"
   ]
  }
 ],
 "metadata": {
  "kernelspec": {
   "display_name": "Python 3",
   "language": "python",
   "name": "python3"
  },
  "language_info": {
   "codemirror_mode": {
    "name": "ipython",
    "version": 3
   },
   "file_extension": ".py",
   "mimetype": "text/x-python",
   "name": "python",
   "nbconvert_exporter": "python",
   "pygments_lexer": "ipython3",
   "version": "3.9.0"
  },
  "orig_nbformat": 4
 },
 "nbformat": 4,
 "nbformat_minor": 2
}
